{
 "cells": [
  {
   "cell_type": "code",
   "execution_count": 1,
   "metadata": {
    "ExecuteTime": {
     "end_time": "2018-06-25T09:49:01.646911Z",
     "start_time": "2018-06-25T09:49:01.615800Z"
    }
   },
   "outputs": [
    {
     "data": {
      "text/plain": [
       "'Mon Jun 25 13:49:01 2018'"
      ]
     },
     "execution_count": 1,
     "metadata": {},
     "output_type": "execute_result"
    }
   ],
   "source": [
    "import time\n",
    "time.ctime()"
   ]
  },
  {
   "cell_type": "markdown",
   "metadata": {},
   "source": [
    "# Prefix geolocation\n",
    "This report checks for geolocation of all IPv4 prefixes assigned and allocated after 01 April 2018, date when the softlanding phase 1 started.\n",
    "\n",
    "Rule\n",
    "5.4.6.2 AFRINIC resources are for AFRINIC service region and any use outside the region should be solely in support of connectivity back to the AFRINIC region."
   ]
  },
  {
   "cell_type": "code",
   "execution_count": 49,
   "metadata": {
    "ExecuteTime": {
     "end_time": "2018-06-25T11:21:41.292731Z",
     "start_time": "2018-06-25T11:21:41.246742Z"
    }
   },
   "outputs": [],
   "source": [
    "import numpy as np\n",
    "import pandas as pd\n",
    "import urllib, urllib2, json, re\n",
    "from netaddr import *\n",
    "from IPython.display import HTML\n",
    "\n",
    "RIPE_STATS_URL = \"https://stat.ripe.net/data/geoloc/data.json?resource=\"\n",
    "IPRESOURCES_PATH = \"ftp://ftp.afrinic.net/stats/afrinic/delegated-afrinic-extended-latest\"\n",
    "\n",
    "ccs = ['EG', 'BJ', 'CI', 'CV', 'GH', 'GM', 'GN', 'GW', 'AO', 'CF', 'CG', 'CM', 'GA', \n",
    "       'GQ', 'TD', 'BI', 'DJ', 'ER', 'ET', 'KM', 'BW', 'MA', 'SD', 'TN', 'LR', 'ML', 'MR', 'NE', 'NG', 'SL', 'SN', 'TG', 'ST', 'KE', 'MG', 'MU', 'MW', 'MZ', 'RE', 'RW', 'SC', 'SO', 'UG', 'LS', 'NA', 'SZ', 'ZA', 'DZ', 'EH', 'LY', 'BF', 'SH', 'CD', 'TZ', 'YT', 'ZM', 'ZW']\n",
    "\n",
    "def getIPRange(prefix, prefixlength):\n",
    "    \n",
    "    #check for IPv6\n",
    "    if \":\" in prefix:\n",
    "        return IPNetwork(prefix + \"/\" + str(prefixlength))\n",
    "    else: \n",
    "        startip = IPAddress(prefix)\n",
    "        endipint = int(startip) + int(prefixlength) -1\n",
    "        endip = IPAddress(endipint)\n",
    "        range = IPRange(startip, endip)\n",
    "        return range.cidrs()\n",
    "\n",
    "\n",
    "def getGeolocation(url):\n",
    "    try:\n",
    "        response = urllib2.urlopen(url)\n",
    "        data = json.loads(response.read())\n",
    "    except Exception, e:\n",
    "        print e\n",
    "    \n",
    "    nb_loc = len(data['data']['locations'])\n",
    "    \n",
    "    return nb_loc, data['data']['locations']\n",
    "    "
   ]
  },
  {
   "cell_type": "code",
   "execution_count": 50,
   "metadata": {
    "ExecuteTime": {
     "end_time": "2018-06-25T11:23:14.475063Z",
     "start_time": "2018-06-25T11:21:43.652587Z"
    }
   },
   "outputs": [],
   "source": [
    "df = pd.read_csv(IPRESOURCES_PATH, sep='|', \n",
    "                     skiprows=5, keep_default_na=0, \n",
    "                     names = ['rir','cc','type','resource','prefixlen','allocdate','status','opaqueid'])\n",
    "\n",
    "#filter out unnecessary columns\n",
    "df = df.iloc[:,[1,2,3,4,5,6]]\n",
    "df['allocdate'] = pd.to_datetime(df['allocdate'])\n",
    "df = df.loc[df['type'] == 'ipv4']\n",
    "df = df.loc[df['allocdate'] > '2018-03-31']\n",
    "\n",
    "df_found = pd.DataFrame(columns=['prefix', 'country', 'status', 'allocdate', 'locations', 'in_africa', 'out_africa'])\n",
    "\n",
    "for index, prefix in df.iterrows():\n",
    "    ip_range = getIPRange(prefix['resource'], prefix['prefixlen'])\n",
    "    ip = str(ip_range[0])\n",
    "    nb_loc, locations = getGeolocation(RIPE_STATS_URL + ip)\n",
    "    \n",
    "    if (nb_loc > 0):\n",
    "        \n",
    "        in_africa=0\n",
    "        out_africa=0\n",
    "        \n",
    "        for loc in locations:\n",
    "            if loc['country'] in ccs:\n",
    "                in_africa = in_africa + 1\n",
    "            else:\n",
    "                out_africa = out_africa + 1\n",
    "        \n",
    "        df_found = df_found.append({'prefix': ip,'country': prefix['cc'] ,'status': prefix['status'], \n",
    "                                'allocdate': prefix['allocdate'], 'locations': nb_loc, 'in_africa': in_africa, \n",
    "                                    'out_africa' : out_africa}, ignore_index=True)"
   ]
  },
  {
   "cell_type": "code",
   "execution_count": 51,
   "metadata": {
    "ExecuteTime": {
     "end_time": "2018-06-25T11:23:14.510713Z",
     "start_time": "2018-06-25T11:23:14.481997Z"
    }
   },
   "outputs": [
    {
     "data": {
      "text/html": [
       "<table border=\"1\" class=\"dataframe\">\n",
       "  <thead>\n",
       "    <tr style=\"text-align: right;\">\n",
       "      <th></th>\n",
       "      <th>prefix</th>\n",
       "      <th>country</th>\n",
       "      <th>status</th>\n",
       "      <th>allocdate</th>\n",
       "      <th>locations</th>\n",
       "      <th>in_africa</th>\n",
       "      <th>out_africa</th>\n",
       "    </tr>\n",
       "  </thead>\n",
       "  <tbody>\n",
       "    <tr>\n",
       "      <th>0</th>\n",
       "      <td>196.49.52.0/24</td>\n",
       "      <td>TZ</td>\n",
       "      <td>assigned</td>\n",
       "      <td>2018-06-08</td>\n",
       "      <td>1</td>\n",
       "      <td>1</td>\n",
       "      <td>0</td>\n",
       "    </tr>\n",
       "    <tr>\n",
       "      <th>1</th>\n",
       "      <td>196.49.54.0/24</td>\n",
       "      <td>TZ</td>\n",
       "      <td>assigned</td>\n",
       "      <td>2018-06-08</td>\n",
       "      <td>1</td>\n",
       "      <td>1</td>\n",
       "      <td>0</td>\n",
       "    </tr>\n",
       "    <tr>\n",
       "      <th>2</th>\n",
       "      <td>196.49.56.0/24</td>\n",
       "      <td>CG</td>\n",
       "      <td>assigned</td>\n",
       "      <td>2018-06-18</td>\n",
       "      <td>1</td>\n",
       "      <td>1</td>\n",
       "      <td>0</td>\n",
       "    </tr>\n",
       "    <tr>\n",
       "      <th>3</th>\n",
       "      <td>196.60.50.0/24</td>\n",
       "      <td>TZ</td>\n",
       "      <td>assigned</td>\n",
       "      <td>2018-06-08</td>\n",
       "      <td>1</td>\n",
       "      <td>1</td>\n",
       "      <td>0</td>\n",
       "    </tr>\n",
       "    <tr>\n",
       "      <th>4</th>\n",
       "      <td>196.60.52.0/24</td>\n",
       "      <td>TZ</td>\n",
       "      <td>assigned</td>\n",
       "      <td>2018-06-08</td>\n",
       "      <td>1</td>\n",
       "      <td>1</td>\n",
       "      <td>0</td>\n",
       "    </tr>\n",
       "  </tbody>\n",
       "</table>"
      ],
      "text/plain": [
       "<IPython.core.display.HTML object>"
      ]
     },
     "execution_count": 51,
     "metadata": {},
     "output_type": "execute_result"
    }
   ],
   "source": [
    "HTML(pd.DataFrame(df_found).to_html())"
   ]
  },
  {
   "cell_type": "code",
   "execution_count": null,
   "metadata": {},
   "outputs": [],
   "source": []
  }
 ],
 "metadata": {
  "hide_input": false,
  "kernelspec": {
   "display_name": "Python 2",
   "language": "python",
   "name": "python2"
  },
  "language_info": {
   "codemirror_mode": {
    "name": "ipython",
    "version": 2
   },
   "file_extension": ".py",
   "mimetype": "text/x-python",
   "name": "python",
   "nbconvert_exporter": "python",
   "pygments_lexer": "ipython2",
   "version": "2.7.15"
  }
 },
 "nbformat": 4,
 "nbformat_minor": 2
}
